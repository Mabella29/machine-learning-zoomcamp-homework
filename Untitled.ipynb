{
 "cells": [
  {
   "cell_type": "code",
   "execution_count": 1,
   "id": "9f789648-8103-4b1c-b9f0-c79029a00102",
   "metadata": {},
   "outputs": [],
   "source": [
    "import numpy as np\n",
    "import pandas as pd"
   ]
  },
  {
   "cell_type": "code",
   "execution_count": 2,
   "id": "550f11af-b24e-41e7-8026-1719c795ed3c",
   "metadata": {},
   "outputs": [],
   "source": [
    "df = pd.read_csv('https://raw.githubusercontent.com/alexeygrigorev/datasets/master/laptops.csv')"
   ]
  },
  {
   "cell_type": "code",
   "execution_count": 3,
   "id": "d88b71b1-b352-4017-b096-db43ee5efca9",
   "metadata": {},
   "outputs": [
    {
     "data": {
      "text/html": [
       "<div>\n",
       "<style scoped>\n",
       "    .dataframe tbody tr th:only-of-type {\n",
       "        vertical-align: middle;\n",
       "    }\n",
       "\n",
       "    .dataframe tbody tr th {\n",
       "        vertical-align: top;\n",
       "    }\n",
       "\n",
       "    .dataframe thead th {\n",
       "        text-align: right;\n",
       "    }\n",
       "</style>\n",
       "<table border=\"1\" class=\"dataframe\">\n",
       "  <thead>\n",
       "    <tr style=\"text-align: right;\">\n",
       "      <th></th>\n",
       "      <th>Laptop</th>\n",
       "      <th>Status</th>\n",
       "      <th>Brand</th>\n",
       "      <th>Model</th>\n",
       "      <th>CPU</th>\n",
       "      <th>RAM</th>\n",
       "      <th>Storage</th>\n",
       "      <th>Storage type</th>\n",
       "      <th>GPU</th>\n",
       "      <th>Screen</th>\n",
       "      <th>Touch</th>\n",
       "      <th>Final Price</th>\n",
       "    </tr>\n",
       "  </thead>\n",
       "  <tbody>\n",
       "    <tr>\n",
       "      <th>0</th>\n",
       "      <td>ASUS ExpertBook B1 B1502CBA-EJ0436X Intel Core...</td>\n",
       "      <td>New</td>\n",
       "      <td>Asus</td>\n",
       "      <td>ExpertBook</td>\n",
       "      <td>Intel Core i5</td>\n",
       "      <td>8</td>\n",
       "      <td>512</td>\n",
       "      <td>SSD</td>\n",
       "      <td>NaN</td>\n",
       "      <td>15.6</td>\n",
       "      <td>No</td>\n",
       "      <td>1009.00</td>\n",
       "    </tr>\n",
       "    <tr>\n",
       "      <th>1</th>\n",
       "      <td>Alurin Go Start Intel Celeron N4020/8GB/256GB ...</td>\n",
       "      <td>New</td>\n",
       "      <td>Alurin</td>\n",
       "      <td>Go</td>\n",
       "      <td>Intel Celeron</td>\n",
       "      <td>8</td>\n",
       "      <td>256</td>\n",
       "      <td>SSD</td>\n",
       "      <td>NaN</td>\n",
       "      <td>15.6</td>\n",
       "      <td>No</td>\n",
       "      <td>299.00</td>\n",
       "    </tr>\n",
       "    <tr>\n",
       "      <th>2</th>\n",
       "      <td>ASUS ExpertBook B1 B1502CBA-EJ0424X Intel Core...</td>\n",
       "      <td>New</td>\n",
       "      <td>Asus</td>\n",
       "      <td>ExpertBook</td>\n",
       "      <td>Intel Core i3</td>\n",
       "      <td>8</td>\n",
       "      <td>256</td>\n",
       "      <td>SSD</td>\n",
       "      <td>NaN</td>\n",
       "      <td>15.6</td>\n",
       "      <td>No</td>\n",
       "      <td>789.00</td>\n",
       "    </tr>\n",
       "    <tr>\n",
       "      <th>3</th>\n",
       "      <td>MSI Katana GF66 12UC-082XES Intel Core i7-1270...</td>\n",
       "      <td>New</td>\n",
       "      <td>MSI</td>\n",
       "      <td>Katana</td>\n",
       "      <td>Intel Core i7</td>\n",
       "      <td>16</td>\n",
       "      <td>1000</td>\n",
       "      <td>SSD</td>\n",
       "      <td>RTX 3050</td>\n",
       "      <td>15.6</td>\n",
       "      <td>No</td>\n",
       "      <td>1199.00</td>\n",
       "    </tr>\n",
       "    <tr>\n",
       "      <th>4</th>\n",
       "      <td>HP 15S-FQ5085NS Intel Core i5-1235U/16GB/512GB...</td>\n",
       "      <td>New</td>\n",
       "      <td>HP</td>\n",
       "      <td>15S</td>\n",
       "      <td>Intel Core i5</td>\n",
       "      <td>16</td>\n",
       "      <td>512</td>\n",
       "      <td>SSD</td>\n",
       "      <td>NaN</td>\n",
       "      <td>15.6</td>\n",
       "      <td>No</td>\n",
       "      <td>669.01</td>\n",
       "    </tr>\n",
       "  </tbody>\n",
       "</table>\n",
       "</div>"
      ],
      "text/plain": [
       "                                              Laptop Status   Brand  \\\n",
       "0  ASUS ExpertBook B1 B1502CBA-EJ0436X Intel Core...    New    Asus   \n",
       "1  Alurin Go Start Intel Celeron N4020/8GB/256GB ...    New  Alurin   \n",
       "2  ASUS ExpertBook B1 B1502CBA-EJ0424X Intel Core...    New    Asus   \n",
       "3  MSI Katana GF66 12UC-082XES Intel Core i7-1270...    New     MSI   \n",
       "4  HP 15S-FQ5085NS Intel Core i5-1235U/16GB/512GB...    New      HP   \n",
       "\n",
       "        Model            CPU  RAM  Storage Storage type       GPU  Screen  \\\n",
       "0  ExpertBook  Intel Core i5    8      512          SSD       NaN    15.6   \n",
       "1          Go  Intel Celeron    8      256          SSD       NaN    15.6   \n",
       "2  ExpertBook  Intel Core i3    8      256          SSD       NaN    15.6   \n",
       "3      Katana  Intel Core i7   16     1000          SSD  RTX 3050    15.6   \n",
       "4         15S  Intel Core i5   16      512          SSD       NaN    15.6   \n",
       "\n",
       "  Touch  Final Price  \n",
       "0    No      1009.00  \n",
       "1    No       299.00  \n",
       "2    No       789.00  \n",
       "3    No      1199.00  \n",
       "4    No       669.01  "
      ]
     },
     "execution_count": 3,
     "metadata": {},
     "output_type": "execute_result"
    }
   ],
   "source": [
    "df.head()"
   ]
  },
  {
   "cell_type": "code",
   "execution_count": 4,
   "id": "bf052bc2-6e75-414a-9462-50535f7ee97d",
   "metadata": {},
   "outputs": [],
   "source": [
    "df.columns = df.columns.str.lower().str.replace(' ', '_')"
   ]
  },
  {
   "cell_type": "code",
   "execution_count": 5,
   "id": "69f0f7a2-0855-4d2a-8593-6bf15e37f3a8",
   "metadata": {},
   "outputs": [
    {
     "data": {
      "text/plain": [
       "Index(['laptop', 'status', 'brand', 'model', 'cpu', 'ram', 'storage',\n",
       "       'storage_type', 'gpu', 'screen', 'touch', 'final_price'],\n",
       "      dtype='object')"
      ]
     },
     "execution_count": 5,
     "metadata": {},
     "output_type": "execute_result"
    }
   ],
   "source": [
    "df.columns"
   ]
  },
  {
   "cell_type": "code",
   "execution_count": 34,
   "id": "16fed280-a1af-4900-bac0-cbe3d7cf4e2f",
   "metadata": {},
   "outputs": [
    {
     "data": {
      "text/html": [
       "<div>\n",
       "<style scoped>\n",
       "    .dataframe tbody tr th:only-of-type {\n",
       "        vertical-align: middle;\n",
       "    }\n",
       "\n",
       "    .dataframe tbody tr th {\n",
       "        vertical-align: top;\n",
       "    }\n",
       "\n",
       "    .dataframe thead th {\n",
       "        text-align: right;\n",
       "    }\n",
       "</style>\n",
       "<table border=\"1\" class=\"dataframe\">\n",
       "  <thead>\n",
       "    <tr style=\"text-align: right;\">\n",
       "      <th></th>\n",
       "      <th>ram</th>\n",
       "      <th>storage</th>\n",
       "      <th>screen</th>\n",
       "      <th>final_price</th>\n",
       "    </tr>\n",
       "  </thead>\n",
       "  <tbody>\n",
       "    <tr>\n",
       "      <th>0</th>\n",
       "      <td>8</td>\n",
       "      <td>512</td>\n",
       "      <td>15.6</td>\n",
       "      <td>1009.00</td>\n",
       "    </tr>\n",
       "    <tr>\n",
       "      <th>1</th>\n",
       "      <td>8</td>\n",
       "      <td>256</td>\n",
       "      <td>15.6</td>\n",
       "      <td>299.00</td>\n",
       "    </tr>\n",
       "    <tr>\n",
       "      <th>2</th>\n",
       "      <td>8</td>\n",
       "      <td>256</td>\n",
       "      <td>15.6</td>\n",
       "      <td>789.00</td>\n",
       "    </tr>\n",
       "    <tr>\n",
       "      <th>3</th>\n",
       "      <td>16</td>\n",
       "      <td>1000</td>\n",
       "      <td>15.6</td>\n",
       "      <td>1199.00</td>\n",
       "    </tr>\n",
       "    <tr>\n",
       "      <th>4</th>\n",
       "      <td>16</td>\n",
       "      <td>512</td>\n",
       "      <td>15.6</td>\n",
       "      <td>669.01</td>\n",
       "    </tr>\n",
       "    <tr>\n",
       "      <th>...</th>\n",
       "      <td>...</td>\n",
       "      <td>...</td>\n",
       "      <td>...</td>\n",
       "      <td>...</td>\n",
       "    </tr>\n",
       "    <tr>\n",
       "      <th>2155</th>\n",
       "      <td>16</td>\n",
       "      <td>1000</td>\n",
       "      <td>17.3</td>\n",
       "      <td>2699.99</td>\n",
       "    </tr>\n",
       "    <tr>\n",
       "      <th>2156</th>\n",
       "      <td>16</td>\n",
       "      <td>1000</td>\n",
       "      <td>17.3</td>\n",
       "      <td>2899.99</td>\n",
       "    </tr>\n",
       "    <tr>\n",
       "      <th>2157</th>\n",
       "      <td>32</td>\n",
       "      <td>1000</td>\n",
       "      <td>17.3</td>\n",
       "      <td>3399.99</td>\n",
       "    </tr>\n",
       "    <tr>\n",
       "      <th>2158</th>\n",
       "      <td>16</td>\n",
       "      <td>1000</td>\n",
       "      <td>13.4</td>\n",
       "      <td>1899.99</td>\n",
       "    </tr>\n",
       "    <tr>\n",
       "      <th>2159</th>\n",
       "      <td>16</td>\n",
       "      <td>256</td>\n",
       "      <td>13.4</td>\n",
       "      <td>1699.99</td>\n",
       "    </tr>\n",
       "  </tbody>\n",
       "</table>\n",
       "<p>2160 rows × 4 columns</p>\n",
       "</div>"
      ],
      "text/plain": [
       "      ram  storage  screen  final_price\n",
       "0       8      512    15.6      1009.00\n",
       "1       8      256    15.6       299.00\n",
       "2       8      256    15.6       789.00\n",
       "3      16     1000    15.6      1199.00\n",
       "4      16      512    15.6       669.01\n",
       "...   ...      ...     ...          ...\n",
       "2155   16     1000    17.3      2699.99\n",
       "2156   16     1000    17.3      2899.99\n",
       "2157   32     1000    17.3      3399.99\n",
       "2158   16     1000    13.4      1899.99\n",
       "2159   16      256    13.4      1699.99\n",
       "\n",
       "[2160 rows x 4 columns]"
      ]
     },
     "execution_count": 34,
     "metadata": {},
     "output_type": "execute_result"
    }
   ],
   "source": [
    "base = df[['ram', 'storage', 'screen', 'final_price']]\n",
    "base"
   ]
  },
  {
   "cell_type": "code",
   "execution_count": 75,
   "id": "4ed44bff-0549-427e-990f-58decc462ada",
   "metadata": {},
   "outputs": [
    {
     "data": {
      "text/plain": [
       "<AxesSubplot:>"
      ]
     },
     "execution_count": 75,
     "metadata": {},
     "output_type": "execute_result"
    },
    {
     "data": {
      "image/png": "[encoded data removed]",
      "text/plain": [
       "<Figure size 432x288 with 1 Axes>"
      ]
     },
     "metadata": {
      "needs_background": "light"
     },
     "output_type": "display_data"
    }
   ],
   "source": [
    "base['final_price'].hist()"
   ]
  },
  {
   "cell_type": "code",
   "execution_count": 35,
   "id": "27eb046c-0173-4fdc-9af6-d9516cc9eb49",
   "metadata": {},
   "outputs": [
    {
     "data": {
      "text/plain": [
       "ram            0\n",
       "storage        0\n",
       "screen         4\n",
       "final_price    0\n",
       "dtype: int64"
      ]
     },
     "execution_count": 35,
     "metadata": {},
     "output_type": "execute_result"
    }
   ],
   "source": [
    "base.isnull().sum()"
   ]
  },
  {
   "cell_type": "code",
   "execution_count": 8,
   "id": "c22c77dd-89a5-4816-a555-3e3a39f53be3",
   "metadata": {},
   "outputs": [
    {
     "data": {
      "text/plain": [
       "16.0"
      ]
     },
     "execution_count": 8,
     "metadata": {},
     "output_type": "execute_result"
    }
   ],
   "source": [
    "ram_median_value = base['ram'].median()\n",
    "ram_median_value"
   ]
  },
  {
   "cell_type": "code",
   "execution_count": 9,
   "id": "1a3a69a8-9043-46d8-bf24-0f34cc1a6ed6",
   "metadata": {},
   "outputs": [],
   "source": [
    "n = len(df)\n",
    "n_test = int(n *0.2)\n",
    "n_val = int(n * 0.2)\n",
    "n_train = n - n_test - n_val"
   ]
  },
  {
   "cell_type": "code",
   "execution_count": 10,
   "id": "ca93eadf-e496-48ef-8cb2-ebd1baa3bff2",
   "metadata": {},
   "outputs": [
    {
     "data": {
      "text/plain": [
       "(1296, 432, 432)"
      ]
     },
     "execution_count": 10,
     "metadata": {},
     "output_type": "execute_result"
    }
   ],
   "source": [
    "n_train, n_val, n_test"
   ]
  },
  {
   "cell_type": "code",
   "execution_count": 11,
   "id": "cd47d75d-a8fb-4cc6-9d91-cf7250d6630d",
   "metadata": {},
   "outputs": [],
   "source": [
    "df_train = base.iloc[n_train:] \n",
    "df_val = base.iloc[n_train:n_train + n_val]\n",
    "df_test = base.iloc[n_train+n_val:]"
   ]
  },
  {
   "cell_type": "code",
   "execution_count": 12,
   "id": "79dff0ba-6de4-4926-a6e3-16324ca312ff",
   "metadata": {},
   "outputs": [
    {
     "data": {
      "text/plain": [
       "array([2079,  668, 2073, ..., 1130, 1294,  860])"
      ]
     },
     "execution_count": 12,
     "metadata": {},
     "output_type": "execute_result"
    }
   ],
   "source": [
    "idx = np.arange(n)\n",
    "np.random.seed(42)\n",
    "np.random.shuffle(idx)\n",
    "idx"
   ]
  },
  {
   "cell_type": "code",
   "execution_count": 14,
   "id": "12fb9678-fae1-47a1-9915-0646776162a4",
   "metadata": {},
   "outputs": [],
   "source": [
    "df_train = base.iloc[idx[:n_train]].copy()\n",
    "df_val = base.iloc[idx[n_train:n_train + n_val]].copy()\n",
    "df_test = base.iloc[idx[n_train + n_val:]].copy()"
   ]
  },
  {
   "cell_type": "code",
   "execution_count": 15,
   "id": "b450789f-e4bd-4050-9d43-469ebc41e4a7",
   "metadata": {},
   "outputs": [],
   "source": [
    "df_train=df_train.reset_index(drop=True)\n",
    "df_val = df_val.reset_index(drop = True)\n",
    "df_test = df_test.reset_index( drop = True)"
   ]
  },
  {
   "cell_type": "code",
   "execution_count": 16,
   "id": "3a1d8f59-0157-4660-89e4-68fe2a51b8e1",
   "metadata": {},
   "outputs": [
    {
     "data": {
      "text/plain": [
       "(1296, 432, 432)"
      ]
     },
     "execution_count": 16,
     "metadata": {},
     "output_type": "execute_result"
    }
   ],
   "source": [
    "len(df_train), len(df_val), len(df_test)"
   ]
  },
  {
   "cell_type": "code",
   "execution_count": 36,
   "id": "8062325a-2b15-4338-ae7f-7c566fc3bc65",
   "metadata": {},
   "outputs": [],
   "source": [
    "mean_values = df_train['screen'].mean()"
   ]
  },
  {
   "cell_type": "code",
   "execution_count": 37,
   "id": "70394827-c5a0-4324-8535-61f2135a4c09",
   "metadata": {},
   "outputs": [],
   "source": [
    "y_train = np.log1p(df_train.final_price.values)\n",
    "y_val = np.log1p(df_val.final_price.values)\n",
    "y_test = np.log1p(df_test.final_price.values)"
   ]
  },
  {
   "cell_type": "code",
   "execution_count": 38,
   "id": "e068ff09-e081-4ded-8c1b-cc52222fbfcf",
   "metadata": {},
   "outputs": [],
   "source": []
  },
  {
   "cell_type": "code",
   "execution_count": 47,
   "id": "b1406809-e5c9-4385-8afd-a642f1477263",
   "metadata": {},
   "outputs": [],
   "source": [
    "X_train = df_train[['ram', 'storage', 'screen']].fillna(0).values\n",
    "X_val = df_val[['ram', 'storage', 'screen']].fillna(0).values\n",
    "X_test = df_test[['ram', 'storage', 'screen']].fillna(0).values\n"
   ]
  },
  {
   "cell_type": "code",
   "execution_count": 48,
   "id": "2f796f42-82d4-45e5-ad80-cbbf352065c6",
   "metadata": {},
   "outputs": [],
   "source": [
    "def train_linear_regression(X, y):\n",
    "    ones = np.ones(X.shape[0])\n",
    "    X = np.column_stack([ones, X])\n",
    "\n",
    "    XTX = X.T.dot(X)\n",
    "    XTX_inv = np.linalg.inv(XTX)\n",
    "    w = XTX_inv.dot(X.T).dot(y)\n",
    "    \n",
    "    return w[0], w[1:]"
   ]
  },
  {
   "cell_type": "code",
   "execution_count": 49,
   "id": "170ebdd8-8669-4a3a-9c18-471eb3e5cf97",
   "metadata": {},
   "outputs": [],
   "source": [
    "w0, w = train_linear_regression(X_train, y_train)\n"
   ]
  },
  {
   "cell_type": "code",
   "execution_count": 50,
   "id": "cee0bde8-40cd-4d8c-bd91-ee1fec08ec56",
   "metadata": {},
   "outputs": [
    {
     "data": {
      "text/plain": [
       "(6.727163706120431, array([ 0.02630589,  0.00066041, -0.03651909]))"
      ]
     },
     "execution_count": 50,
     "metadata": {},
     "output_type": "execute_result"
    }
   ],
   "source": [
    "w0, w"
   ]
  },
  {
   "cell_type": "code",
   "execution_count": 51,
   "id": "ce82d3c7-283e-48b8-bbfc-cc8724542d1a",
   "metadata": {},
   "outputs": [],
   "source": [
    "X_train1= df_train[['ram', 'storage', 'screen']].fillna(mean_values).values\n",
    "X_val1 = df_val[['ram', 'storage', 'screen']].fillna(mean_values).values\n",
    "X_test1 = df_test[['ram', 'storage', 'screen']].fillna(mean_values).values\n",
    "\n"
   ]
  },
  {
   "cell_type": "code",
   "execution_count": 52,
   "id": "987af53c-e431-4054-9a02-e22c4eb39121",
   "metadata": {},
   "outputs": [],
   "source": [
    "w0 ,w = train_linear_regression(X_train1, y_train)\n"
   ]
  },
  {
   "cell_type": "code",
   "execution_count": 53,
   "id": "dcef0f3e-ef75-415e-afb9-52a9084aa97c",
   "metadata": {},
   "outputs": [
    {
     "data": {
      "text/plain": [
       "(6.727163706120431, array([ 0.02630589,  0.00066041, -0.03651909]))"
      ]
     },
     "execution_count": 53,
     "metadata": {},
     "output_type": "execute_result"
    }
   ],
   "source": [
    "w0 , w"
   ]
  },
  {
   "cell_type": "code",
   "execution_count": 54,
   "id": "55a93e37-3a2b-404d-9081-8de05f24d9ae",
   "metadata": {},
   "outputs": [],
   "source": [
    "y_pred = w0 + X_train.dot(w)"
   ]
  },
  {
   "cell_type": "code",
   "execution_count": 55,
   "id": "663d5f35-bcf5-420b-9633-42e963189009",
   "metadata": {},
   "outputs": [],
   "source": [
    "def rmse(y, y_pred):\n",
    "    error = y_pred - y\n",
    "    mse = (error ** 2).mean()\n",
    "    return np.sqrt(mse)\n"
   ]
  },
  {
   "cell_type": "markdown",
   "id": "0c66bca5-edd0-4a66-b275-b417e199cff4",
   "metadata": {},
   "source": [
    "## rmse for 0"
   ]
  },
  {
   "cell_type": "code",
   "execution_count": 56,
   "id": "b8e6fa91-897e-4d33-a310-0afc3c06246e",
   "metadata": {},
   "outputs": [
    {
     "data": {
      "text/plain": [
       "0.45"
      ]
     },
     "execution_count": 56,
     "metadata": {},
     "output_type": "execute_result"
    }
   ],
   "source": [
    "score = rmse(y_train, y_pred)\n",
    "round(score, 2)"
   ]
  },
  {
   "cell_type": "markdown",
   "id": "313bbcf5-30dd-4944-b22e-ea2f01a5c433",
   "metadata": {},
   "source": [
    "## for mean"
   ]
  },
  {
   "cell_type": "code",
   "execution_count": 57,
   "id": "c56719ed-4497-4da6-943b-ed62ae9bdc59",
   "metadata": {},
   "outputs": [
    {
     "data": {
      "text/plain": [
       "0.45"
      ]
     },
     "execution_count": 57,
     "metadata": {},
     "output_type": "execute_result"
    }
   ],
   "source": [
    "y_pred = w0 + X_train1.dot(w)\n",
    "\n",
    "score = rmse(y_train, y_pred)\n",
    "round(score, 2)"
   ]
  },
  {
   "cell_type": "markdown",
   "id": "f1ce86cb-ecbd-48c8-add6-e672cbe3c291",
   "metadata": {},
   "source": [
    "## question 4"
   ]
  },
  {
   "cell_type": "code",
   "execution_count": 58,
   "id": "86ff8782-e551-411d-bfde-79f74936d2d0",
   "metadata": {},
   "outputs": [],
   "source": [
    "def train_linear_regression_reg(X, y, r):\n",
    "    ones = np.ones(X.shape[0])\n",
    "    X = np.column_stack([ones, X])\n",
    "\n",
    "    XTX = X.T.dot(X)\n",
    "    XTX = XTX + r * np.eye(XTX.shape[0])    \n",
    "    \n",
    "    XTX_inv = np.linalg.inv(XTX)\n",
    "    w = XTX_inv.dot(X.T).dot(y)\n",
    "    \n",
    "    return w[0], w[1:]"
   ]
  },
  {
   "cell_type": "code",
   "execution_count": 59,
   "id": "a56e54e3-8353-4a56-bd38-d268b7c988a8",
   "metadata": {},
   "outputs": [
    {
     "name": "stdout",
     "output_type": "stream",
     "text": [
      "r = 0.0,  w0 = 6.727163706120431,  score = 0.43\n",
      "r = 0.01,  w0 = 6.721004333268212,  score = 0.43\n",
      "r = 0.1,  w0 = 6.666075503835682,  score = 0.43\n",
      "r = 1,  w0 = 6.162616499467005,  score = 0.43\n",
      "r = 5,  w0 = 4.616086176499101,  score = 0.46\n",
      "r = 10,  w0 = 3.5167547207932204,  score = 0.51\n",
      "r = 100,  w0 = 0.6849263362652398,  score = 0.67\n"
     ]
    }
   ],
   "source": [
    "for r in [0.0, 0.01, 0.1, 1, 5, 10, 100]:\n",
    "    w0, w = train_linear_regression_reg(X_train,y_train, r=r)\n",
    "\n",
    "    y_pred = w0 + X_val.dot(w)\n",
    "\n",
    "    score = rmse(y_val,y_pred)\n",
    "    score = round(score,2)\n",
    "    \n",
    "    print(f\"r = {r},  w0 = {w0},  score = {score}\")"
   ]
  },
  {
   "cell_type": "markdown",
   "id": "bf7154e4-8024-4a4a-812d-0805b4d47615",
   "metadata": {},
   "source": [
    "## question 5"
   ]
  },
  {
   "cell_type": "code",
   "execution_count": 60,
   "id": "1f0a9f23-3e24-43b9-8e68-46117749779e",
   "metadata": {},
   "outputs": [],
   "source": [
    "seeds = [0, 1, 2, 3, 4, 5, 6, 7, 8, 9]\n",
    "\n",
    "rmse_scores = []"
   ]
  },
  {
   "cell_type": "code",
   "execution_count": 61,
   "id": "273c0e24-c1c6-4e76-9b40-c9631333c537",
   "metadata": {},
   "outputs": [
    {
     "name": "stdout",
     "output_type": "stream",
     "text": [
      "Seed: 0, RMSE: 0.518\n",
      "Seed: 1, RMSE: 0.517\n",
      "Seed: 2, RMSE: 0.513\n",
      "Seed: 3, RMSE: 0.515\n",
      "Seed: 4, RMSE: 0.517\n",
      "Seed: 5, RMSE: 0.517\n",
      "Seed: 6, RMSE: 0.516\n",
      "Seed: 7, RMSE: 0.516\n",
      "Seed: 8, RMSE: 0.517\n",
      "Seed: 9, RMSE: 0.51\n"
     ]
    }
   ],
   "source": [
    "for seed in seeds:\n",
    "    n = len(df)\n",
    "    n_val = int(n * 0.2)\n",
    "    n_test = int(n * 0.2)\n",
    "    n_train = n - n_val - n_test\n",
    "    \n",
    "    idx = np.arange(n)\n",
    "    np.random.seed(seed)\n",
    "    np.random.shuffle(idx)\n",
    "    \n",
    "    df_train = df.iloc[idx[:n_train]].copy()\n",
    "    df_val = df.iloc[n_train:n_train + n_val].copy()\n",
    "    df_test = df.iloc[n_train + n_val:].copy()\n",
    "    \n",
    "    X_train = df_train[['ram', 'storage', 'screen']].fillna(0).values\n",
    "    y_train = np.log1p(df_train.final_price.values)\n",
    "    X_val =  df_val[['ram', 'storage', 'screen']].fillna(0).values\n",
    "    y_val =  np.log1p(df_val.final_price.values)\n",
    "    \n",
    "    w0, w = train_linear_regression(X_train, y_train)\n",
    "    \n",
    "    y_pred = w0 + X_val.dot(w)\n",
    "    \n",
    "    score = rmse(y_val, y_pred)\n",
    "    rmse_scores.append(score)\n",
    "    \n",
    "    print(f\"Seed: {seed}, RMSE: {round(score, 3)}\")"
   ]
  },
  {
   "cell_type": "code",
   "execution_count": 63,
   "id": "ab2cb268-9722-472a-ba4d-c6cc4583e340",
   "metadata": {},
   "outputs": [
    {
     "name": "stdout",
     "output_type": "stream",
     "text": [
      "\n",
      "Standard deviation of RMSE scores: 0.002\n"
     ]
    }
   ],
   "source": [
    "std = np.std(rmse_scores)\n",
    "std_rounded = round(std, 3)\n",
    "print(f\"\\nStandard deviation of RMSE scores: {std_rounded}\")"
   ]
  },
  {
   "cell_type": "markdown",
   "id": "5656bb48-b0dc-43b1-8327-493888073149",
   "metadata": {},
   "source": [
    "## questin 6"
   ]
  },
  {
   "cell_type": "code",
   "execution_count": 64,
   "id": "187ca000-0215-429f-9085-552f0534d2ca",
   "metadata": {},
   "outputs": [],
   "source": [
    "n = len(df)\n",
    "n_val = int(n * 0.2)\n",
    "n_test = int(n * 0.2)\n",
    "n_train = n - n_val - n_test"
   ]
  },
  {
   "cell_type": "code",
   "execution_count": 65,
   "id": "329146cd-99bc-4f40-a688-d38b50dbef82",
   "metadata": {},
   "outputs": [],
   "source": [
    "seed = 9\n",
    "\n",
    "idx = np.arange(n)\n",
    "np.random.seed(seed)\n",
    "np.random.shuffle(idx)"
   ]
  },
  {
   "cell_type": "code",
   "execution_count": 66,
   "id": "0b0c8ca6-c78a-45d0-8516-9be0f1352656",
   "metadata": {},
   "outputs": [],
   "source": [
    "df_train = base.iloc[idx[:n_train]].copy()\n",
    "df_val = base.iloc[idx[n_train:n_train + n_val]].copy()\n",
    "df_test = base.iloc[idx[n_train + n_val:]].copy()"
   ]
  },
  {
   "cell_type": "code",
   "execution_count": 67,
   "id": "83ea5f25-5d90-4cdd-985f-c6ec4833ad06",
   "metadata": {},
   "outputs": [],
   "source": [
    "df_new = pd.concat([df_train, df_val], axis=0)\n",
    "df_new.fillna(0, inplace=True)"
   ]
  },
  {
   "cell_type": "code",
   "execution_count": 68,
   "id": "114bd4c2-b20f-4940-9706-bd16a5a14056",
   "metadata": {},
   "outputs": [],
   "source": [
    "X_new = df_new[['ram', 'storage', 'screen']].values\n",
    "y_new = np.log1p(df_new.final_price.values)"
   ]
  },
  {
   "cell_type": "code",
   "execution_count": 69,
   "id": "5558a07f-f42e-48a4-b6e1-3d710bd87eca",
   "metadata": {},
   "outputs": [],
   "source": [
    "r = 0.001\n",
    "w0, w = train_linear_regression_reg(X_new, y_new, r=r)"
   ]
  },
  {
   "cell_type": "code",
   "execution_count": 70,
   "id": "1f3f79be-8b56-4efe-806b-4e1f6fd0e516",
   "metadata": {},
   "outputs": [],
   "source": [
    "df_test.fillna(0, inplace=True)  # Fill missing values in test set with 0\n",
    "X_test = df_test[['ram', 'storage', 'screen']].values\n",
    "y_test = np.log1p(df_test.final_price.values)"
   ]
  },
  {
   "cell_type": "code",
   "execution_count": 71,
   "id": "9a198fe0-6d00-44af-bdd8-7fa68a0081ee",
   "metadata": {},
   "outputs": [],
   "source": [
    "y_pred = w0 + X_test.dot(w)"
   ]
  },
  {
   "cell_type": "code",
   "execution_count": 72,
   "id": "6de5fb95-05f4-4100-a8dc-05897f3358d0",
   "metadata": {},
   "outputs": [],
   "source": [
    "test_score = rmse(y_test, y_pred)\n",
    "test_score = round(test_score, 2)"
   ]
  },
  {
   "cell_type": "code",
   "execution_count": 73,
   "id": "7bea78ed-1f55-4aaa-bc60-179f76fb9979",
   "metadata": {},
   "outputs": [
    {
     "name": "stdout",
     "output_type": "stream",
     "text": [
      "RMSE on the test set: 0.46\n"
     ]
    }
   ],
   "source": [
    "print(f\"RMSE on the test set: {test_score}\")"
   ]
  },
  {
   "cell_type": "code",
   "execution_count": null,
   "id": "dbda0c0a-2303-410e-a7aa-d4443c9d769c",
   "metadata": {},
   "outputs": [],
   "source": []
  }
 ],
 "metadata": {
  "kernelspec": {
   "display_name": "Python 3 (ipykernel)",
   "language": "python",
   "name": "python3"
  },
  "language_info": {
   "codemirror_mode": {
    "name": "ipython",
    "version": 3
   },
   "file_extension": ".py",
   "mimetype": "text/x-python",
   "name": "python",
   "nbconvert_exporter": "python",
   "pygments_lexer": "ipython3",
   "version": "3.9.7"
  }
 },
 "nbformat": 4,
 "nbformat_minor": 5
}
